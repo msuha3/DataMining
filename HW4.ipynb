{
  "nbformat": 4,
  "nbformat_minor": 0,
  "metadata": {
    "colab": {
      "provenance": []
    },
    "kernelspec": {
      "name": "python3",
      "display_name": "Python 3"
    },
    "language_info": {
      "name": "python"
    }
  },
  "cells": [
    {
      "cell_type": "markdown",
      "source": [
        "Problem 4.1"
      ],
      "metadata": {
        "id": "jvJaY0uzfYqW"
      }
    },
    {
      "cell_type": "code",
      "execution_count": null,
      "metadata": {
        "colab": {
          "base_uri": "https://localhost:8080/"
        },
        "id": "oUfarvgtmUf4",
        "outputId": "9db29b0b-0149-4bc0-cab6-8861881d0957"
      },
      "outputs": [
        {
          "output_type": "stream",
          "name": "stdout",
          "text": [
            "Mounted at /content/drive\n"
          ]
        }
      ],
      "source": [
        "from google.colab import drive\n",
        "\n",
        "drive.mount('/content/drive')"
      ]
    },
    {
      "cell_type": "code",
      "source": [
        "import pandas as pd\n",
        "from sklearn.model_selection import train_test_split\n",
        "\n",
        "file_path = '/content/drive/My Drive/accidentsFull.csv'"
      ],
      "metadata": {
        "id": "lEvZzGuUpund"
      },
      "execution_count": null,
      "outputs": []
    },
    {
      "cell_type": "markdown",
      "source": [
        "A"
      ],
      "metadata": {
        "id": "zWD3PL9sfeXs"
      }
    },
    {
      "cell_type": "code",
      "source": [
        "import pandas as pd\n",
        "\n",
        "data = pd.read_csv(file_path)\n",
        "\n",
        "data['INJURY'] = data['MAX_SEV_IR'].apply(lambda x: 'Yes' if x in [1, 2] else 'No')\n",
        "\n",
        "num_injury = data['INJURY'].value_counts()['Yes']\n",
        "num_no_injury = data['INJURY'].value_counts()['No']\n",
        "total_accidents = len(data)\n",
        "proportion_injury = num_injury / total_accidents\n",
        "\n",
        "print(\"Proportion of accidents with injuries:\", proportion_injury)\n",
        "\n",
        "if proportion_injury >= 0.5:\n",
        "    prediction = \"Yes\"\n",
        "else:\n",
        "    prediction = \"No\"\n",
        "\n",
        "print(\"Prediction for a new accident:\", prediction)"
      ],
      "metadata": {
        "colab": {
          "base_uri": "https://localhost:8080/"
        },
        "id": "DQ54tWz2mUz8",
        "outputId": "ff941c92-c4ab-4c41-b212-e96c343e4677"
      },
      "execution_count": null,
      "outputs": [
        {
          "output_type": "stream",
          "name": "stdout",
          "text": [
            "Proportion of accidents with injuries: 0.5087831590925255\n",
            "Prediction for a new accident: Yes\n"
          ]
        }
      ]
    },
    {
      "cell_type": "markdown",
      "source": [
        "B"
      ],
      "metadata": {
        "id": "aoPd0YARfftH"
      }
    },
    {
      "cell_type": "markdown",
      "source": [
        "i"
      ],
      "metadata": {
        "id": "5XjWfBNDfkEC"
      }
    },
    {
      "cell_type": "code",
      "source": [
        "# Select the first 12 records and the specified columns\n",
        "subset = data.loc[:11, ['INJURY', 'WEATHER_R', 'TRAF_CON_R']]\n",
        "\n",
        "print(subset)"
      ],
      "metadata": {
        "colab": {
          "base_uri": "https://localhost:8080/"
        },
        "id": "0SeqPSo_p81P",
        "outputId": "9d94eac4-c1ac-41b2-d9bb-fee18ef6bd5d"
      },
      "execution_count": null,
      "outputs": [
        {
          "output_type": "stream",
          "name": "stdout",
          "text": [
            "   INJURY  WEATHER_R  TRAF_CON_R\n",
            "0     Yes          1           0\n",
            "1      No          2           0\n",
            "2      No          2           1\n",
            "3      No          1           1\n",
            "4      No          1           0\n",
            "5     Yes          2           0\n",
            "6      No          2           0\n",
            "7     Yes          1           0\n",
            "8      No          2           0\n",
            "9      No          2           0\n",
            "10     No          2           0\n",
            "11     No          1           2\n"
          ]
        }
      ]
    },
    {
      "cell_type": "code",
      "source": [
        "# Create the pivot table\n",
        "pivot_table = pd.pivot_table(subset, index=['WEATHER_R'], columns=['TRAF_CON_R'], values='INJURY', aggfunc='count', fill_value=0)\n",
        "\n",
        "print(pivot_table)"
      ],
      "metadata": {
        "colab": {
          "base_uri": "https://localhost:8080/"
        },
        "id": "2taUeqEWqDgd",
        "outputId": "6658c9dd-3494-4524-b745-2ac8569d4aa0"
      },
      "execution_count": null,
      "outputs": [
        {
          "output_type": "stream",
          "name": "stdout",
          "text": [
            "TRAF_CON_R  0  1  2\n",
            "WEATHER_R          \n",
            "1           3  1  1\n",
            "2           6  1  0\n"
          ]
        }
      ]
    },
    {
      "cell_type": "markdown",
      "source": [
        "ii"
      ],
      "metadata": {
        "id": "iWCBbbqafm7U"
      }
    },
    {
      "cell_type": "code",
      "source": [
        "\n",
        "count_combinations = data.groupby(['WEATHER_R', 'TRAF_CON_R', 'INJURY']).size().reset_index(name='count')\n",
        "\n",
        "total_accidents = count_combinations['count'].sum()\n",
        "num_injury = count_combinations[count_combinations['INJURY'] == 'Yes']['count'].sum()\n",
        "\n",
        "p_injury = num_injury / total_accidents\n",
        "\n",
        "count_injury = count_combinations[count_combinations['INJURY'] == 'Yes']\n",
        "count_combinations['p_wt_given_injury'] = count_injury['count'] / num_injury\n",
        "\n",
        "count_combinations['p_wt'] = count_combinations['count'] / total_accidents\n",
        "\n",
        "count_combinations['p_injury_given_wt'] = count_combinations['p_wt_given_injury'] * p_injury / count_combinations['p_wt']\n",
        "\n",
        "print(count_combinations[['WEATHER_R', 'TRAF_CON_R', 'INJURY', 'p_injury_given_wt']])"
      ],
      "metadata": {
        "id": "rtvRS8kIqKLt",
        "outputId": "4c1becd1-9e58-4538-edb8-9d7b3cd4d6bf",
        "colab": {
          "base_uri": "https://localhost:8080/"
        }
      },
      "execution_count": null,
      "outputs": [
        {
          "output_type": "stream",
          "name": "stdout",
          "text": [
            "    WEATHER_R  TRAF_CON_R INJURY  p_injury_given_wt\n",
            "0           1           0     No                NaN\n",
            "1           1           0    Yes                1.0\n",
            "2           1           1     No                NaN\n",
            "3           1           1    Yes                1.0\n",
            "4           1           2     No                NaN\n",
            "5           1           2    Yes                1.0\n",
            "6           2           0     No                NaN\n",
            "7           2           0    Yes                1.0\n",
            "8           2           1     No                NaN\n",
            "9           2           1    Yes                1.0\n",
            "10          2           2     No                NaN\n",
            "11          2           2    Yes                1.0\n"
          ]
        }
      ]
    },
    {
      "cell_type": "markdown",
      "source": [
        "iii"
      ],
      "metadata": {
        "id": "qNInDpMSgATn"
      }
    },
    {
      "cell_type": "code",
      "source": [
        "cutoff = 0.5\n",
        "\n",
        "count_combinations['prediction'] = count_combinations['p_injury_given_wt'] >= cutoff\n",
        "\n",
        "print(count_combinations[['WEATHER_R', 'TRAF_CON_R', 'INJURY', 'p_injury_given_wt', 'prediction']])\n"
      ],
      "metadata": {
        "id": "496aL3legBJA",
        "outputId": "a86529b7-ac48-4777-9593-faf4bf0186b2",
        "colab": {
          "base_uri": "https://localhost:8080/"
        }
      },
      "execution_count": null,
      "outputs": [
        {
          "output_type": "stream",
          "name": "stdout",
          "text": [
            "    WEATHER_R  TRAF_CON_R INJURY  p_injury_given_wt  prediction\n",
            "0           1           0     No                NaN       False\n",
            "1           1           0    Yes                1.0        True\n",
            "2           1           1     No                NaN       False\n",
            "3           1           1    Yes                1.0        True\n",
            "4           1           2     No                NaN       False\n",
            "5           1           2    Yes                1.0        True\n",
            "6           2           0     No                NaN       False\n",
            "7           2           0    Yes                1.0        True\n",
            "8           2           1     No                NaN       False\n",
            "9           2           1    Yes                1.0        True\n",
            "10          2           2     No                NaN       False\n",
            "11          2           2    Yes                1.0        True\n"
          ]
        }
      ]
    },
    {
      "cell_type": "markdown",
      "source": [
        "iv"
      ],
      "metadata": {
        "id": "Fu0jY9yA-XKT"
      }
    },
    {
      "cell_type": "code",
      "source": [
        "p_weather1_traf1_given_injury_yes = len(data[(data['WEATHER_R'] == 1) & (data['TRAF_CON_R'] == 1) & (data['INJURY'] == 'Yes')]) / len(data[data['INJURY'] == 'Yes'])\n",
        "# P(INJURY = Yes)\n",
        "p_injury_yes = len(data[data['INJURY'] == 'Yes']) / len(data)\n",
        "# P(WEATHER_R = 1, TRAF_CON_R = 1)\n",
        "p_weather1_traf1 = len(data[(data['WEATHER_R'] == 1) & (data['TRAF_CON_R'] == 1)]) / len(data)\n",
        "\n",
        "# Compute the naive Bayes conditional probability\n",
        "p_injury_yes_given_weather1_traf1 = (p_weather1_traf1_given_injury_yes * p_injury_yes) / p_weather1_traf1\n",
        "\n",
        "# Print the result\n",
        "print(\"Naive Bayes conditional probability of an injury given WEATHER_R = 1 and TRAF_CON_R = 1:\", p_injury_yes_given_weather1_traf1)"
      ],
      "metadata": {
        "id": "bjWb38oKYLcL",
        "colab": {
          "base_uri": "https://localhost:8080/"
        },
        "outputId": "ed8ef40d-3463-4ed0-ddb6-4b6de4110634"
      },
      "execution_count": null,
      "outputs": [
        {
          "output_type": "stream",
          "name": "stdout",
          "text": [
            "Naive Bayes conditional probability of an injury given WEATHER_R = 1 and TRAF_CON_R = 1: 0.553423927524647\n"
          ]
        }
      ]
    },
    {
      "cell_type": "markdown",
      "source": [
        "v"
      ],
      "metadata": {
        "id": "orGhz-W0-aX9"
      }
    },
    {
      "cell_type": "code",
      "source": [
        "from sklearn.naive_bayes import CategoricalNB\n",
        "from sklearn.preprocessing import LabelEncoder\n",
        "\n",
        "le = LabelEncoder()\n",
        "subset_encoded = subset.apply(le.fit_transform)\n",
        "\n",
        "X = subset_encoded[['WEATHER_R', 'TRAF_CON_R']]\n",
        "y = subset_encoded['INJURY']\n",
        "\n",
        "nb_classifier = CategoricalNB()\n",
        "nb_classifier.fit(X, y)\n",
        "predicted_probabilities = nb_classifier.predict_proba(X)\n",
        "predicted_classes = nb_classifier.predict(X)\n",
        "\n",
        "print(\"Predicted probabilities:\")\n",
        "print(predicted_probabilities)\n",
        "print(\"Predicted classes:\")\n",
        "print(predicted_classes)\n",
        "\n",
        "print(\"Exact Bayes classification:\")\n",
        "print(count_combinations[['WEATHER_R', 'TRAF_CON_R', 'INJURY', 'p_injury_given_wt', 'prediction']])\n"
      ],
      "metadata": {
        "colab": {
          "base_uri": "https://localhost:8080/"
        },
        "id": "G5GffggP-beo",
        "outputId": "8fc2e206-890a-43b7-b761-572fb79e1445"
      },
      "execution_count": null,
      "outputs": [
        {
          "output_type": "stream",
          "name": "stdout",
          "text": [
            "Predicted probabilities:\n",
            "[[0.61403509 0.38596491]\n",
            " [0.80680571 0.19319429]\n",
            " [0.87743733 0.12256267]\n",
            " [0.73170732 0.26829268]\n",
            " [0.61403509 0.38596491]\n",
            " [0.80680571 0.19319429]\n",
            " [0.80680571 0.19319429]\n",
            " [0.61403509 0.38596491]\n",
            " [0.80680571 0.19319429]\n",
            " [0.80680571 0.19319429]\n",
            " [0.80680571 0.19319429]\n",
            " [0.64516129 0.35483871]]\n",
            "Predicted classes:\n",
            "[0 0 0 0 0 0 0 0 0 0 0 0]\n",
            "Exact Bayes classification:\n",
            "    WEATHER_R  TRAF_CON_R INJURY  p_injury_given_wt  prediction\n",
            "0           1           0     No                NaN       False\n",
            "1           1           0    Yes                1.0        True\n",
            "2           1           1     No                NaN       False\n",
            "3           1           1    Yes                1.0        True\n",
            "4           1           2     No                NaN       False\n",
            "5           1           2    Yes                1.0        True\n",
            "6           2           0     No                NaN       False\n",
            "7           2           0    Yes                1.0        True\n",
            "8           2           1     No                NaN       False\n",
            "9           2           1    Yes                1.0        True\n",
            "10          2           2     No                NaN       False\n",
            "11          2           2    Yes                1.0        True\n"
          ]
        }
      ]
    },
    {
      "cell_type": "code",
      "source": [
        "result_classifications_equivalent = all(predicted_classes == count_combinations['prediction'].values[:12])\n",
        "\n",
        "result_ordering_equivalent = all(predicted_classes == count_combinations['prediction'].values[:12])\n",
        "\n",
        "print(\"Are the resulting classifications equivalent?\", result_classifications_equivalent)\n",
        "print(\"Is the ranking (ordering) of observations equivalent?\", result_ordering_equivalent)\n"
      ],
      "metadata": {
        "colab": {
          "base_uri": "https://localhost:8080/"
        },
        "id": "BAkN3XHP_Sfd",
        "outputId": "f49e92f1-50f1-4201-8777-117c858092e0"
      },
      "execution_count": null,
      "outputs": [
        {
          "output_type": "stream",
          "name": "stdout",
          "text": [
            "Are the resulting classifications equivalent? False\n",
            "Is the ranking (ordering) of observations equivalent? False\n"
          ]
        }
      ]
    },
    {
      "cell_type": "markdown",
      "source": [
        "C\n",
        "\n"
      ],
      "metadata": {
        "id": "t0P21xn7ZgK_"
      }
    },
    {
      "cell_type": "markdown",
      "source": [
        "i"
      ],
      "metadata": {
        "id": "yQNCrpRl3bcd"
      }
    },
    {
      "cell_type": "code",
      "source": [
        "X = data[['WEATHER_R', 'TRAF_CON_R']]  # Predictors\n",
        "y = data['INJURY']  # Response variable\n",
        "\n",
        "# Split the data into training and validation sets\n",
        "X_train, X_val, y_train, y_val = train_test_split(X, y, test_size=0.4, random_state=42)\n",
        "\n",
        "# Print the shapes of the training and validation sets\n",
        "print(\"Training set shape:\", X_train.shape, y_train.shape)\n",
        "print(\"Validation set shape:\", X_val.shape, y_val.shape)"
      ],
      "metadata": {
        "colab": {
          "base_uri": "https://localhost:8080/"
        },
        "id": "JCvPBWEOYnOZ",
        "outputId": "78d77f77-2d9b-4724-9692-15f12cf2f4d9"
      },
      "execution_count": null,
      "outputs": [
        {
          "output_type": "stream",
          "name": "stdout",
          "text": [
            "Training set shape: (25309, 2) (25309,)\n",
            "Validation set shape: (16874, 2) (16874,)\n"
          ]
        }
      ]
    },
    {
      "cell_type": "markdown",
      "source": [
        "ii"
      ],
      "metadata": {
        "id": "sn26vCxiryI3"
      }
    },
    {
      "cell_type": "code",
      "source": [
        "\n",
        "X_train = data[['WEATHER_R',  'WRK_ZONE']]\n",
        "y_train = data['INJURY']\n",
        "\n",
        "nb_classifier = CategoricalNB()\n",
        "nb_classifier.fit(X_train, y_train)\n",
        "\n",
        "y_pred_train = nb_classifier.predict(X_train)\n",
        "\n",
        "conf_matrix_train = confusion_matrix(y_train, y_pred_train)\n",
        "\n",
        "print(\"Confusion Matrix (Training Set):\\n\", conf_matrix_train)\n",
        "\n",
        "print(\"Confusion matrix is \", confusion_matrix)\n"
      ],
      "metadata": {
        "id": "BmavQJz8se58",
        "colab": {
          "base_uri": "https://localhost:8080/"
        },
        "outputId": "6524d3c0-ada2-41cb-ddc0-3adba0b848fe"
      },
      "execution_count": null,
      "outputs": [
        {
          "output_type": "stream",
          "name": "stdout",
          "text": [
            "Confusion Matrix (Training Set):\n",
            " [[ 3743 16978]\n",
            " [ 3146 18316]]\n",
            "Confusion matrix is  <function confusion_matrix at 0x7fcc1f07e560>\n"
          ]
        }
      ]
    },
    {
      "cell_type": "markdown",
      "source": [
        "iii"
      ],
      "metadata": {
        "id": "qS21KM8y4gHG"
      }
    },
    {
      "cell_type": "code",
      "source": [
        "X_val = data.loc[X_val.index, ['WEATHER_R', 'WRK_ZONE']]\n",
        "y_pred_val = nb_classifier.predict(X_val)\n",
        "\n",
        "accuracy = accuracy_score(y_val, y_pred_val)\n",
        "\n",
        "overall_error = 1 - accuracy\n",
        "\n",
        "print(\"Overall Error for the Validation Set:\", overall_error)"
      ],
      "metadata": {
        "id": "iqsmUnVH95iT",
        "colab": {
          "base_uri": "https://localhost:8080/"
        },
        "outputId": "e488e83f-6e96-4a0d-b7ad-aabced179c2b"
      },
      "execution_count": null,
      "outputs": [
        {
          "output_type": "stream",
          "name": "stdout",
          "text": [
            "Overall Error for the Validation Set: 0.48032475998577695\n"
          ]
        }
      ]
    },
    {
      "cell_type": "markdown",
      "source": [
        "iv"
      ],
      "metadata": {
        "id": "44cNKL2yChys"
      }
    },
    {
      "cell_type": "code",
      "source": [
        "\n",
        "class_counts = y_val.value_counts()\n",
        "majority_class = class_counts.idxmax()\n",
        "naive_error = 1 - class_counts[majority_class] / len(y_val)\n",
        "percent_improvement = (naive_error - overall_error) / naive_error * 100\n",
        "\n",
        "print(\"Percent Improvement relative to the naive rule:\", percent_improvement)\n"
      ],
      "metadata": {
        "id": "q4VcjdRUCiIn",
        "colab": {
          "base_uri": "https://localhost:8080/"
        },
        "outputId": "dbf1d4c5-3310-4cc2-a101-2f274ac66713"
      },
      "execution_count": null,
      "outputs": [
        {
          "output_type": "stream",
          "name": "stdout",
          "text": [
            "Percent Improvement relative to the naive rule: 2.0307022845400637\n"
          ]
        }
      ]
    },
    {
      "cell_type": "markdown",
      "source": [
        "v"
      ],
      "metadata": {
        "id": "scd0JqkdCipL"
      }
    },
    {
      "cell_type": "code",
      "source": [
        "pivot_table = data.pivot_table(index='SPD_LIM', columns='INJURY', aggfunc='size', fill_value=0)\n",
        "conditional_probabilities = pivot_table.div(pivot_table.sum(axis=1), axis=0)\n",
        "\n",
        "print(\"Pivot Table with Conditional Probabilities:\")\n",
        "print(conditional_probabilities)"
      ],
      "metadata": {
        "id": "qZcDoTMnCi3_",
        "colab": {
          "base_uri": "https://localhost:8080/"
        },
        "outputId": "b3c4230a-d90a-437c-e0b5-18fedaf4b41c"
      },
      "execution_count": null,
      "outputs": [
        {
          "output_type": "stream",
          "name": "stdout",
          "text": [
            "Pivot Table with Conditional Probabilities:\n",
            "INJURY         No       Yes\n",
            "SPD_LIM                    \n",
            "5        0.333333  0.666667\n",
            "10       0.500000  0.500000\n",
            "15       0.508197  0.491803\n",
            "20       0.633466  0.366534\n",
            "25       0.533888  0.466112\n",
            "30       0.486406  0.513594\n",
            "35       0.467627  0.532373\n",
            "40       0.459572  0.540428\n",
            "45       0.491878  0.508122\n",
            "50       0.506907  0.493093\n",
            "55       0.501365  0.498635\n",
            "60       0.438480  0.561520\n",
            "65       0.504972  0.495028\n",
            "70       0.562586  0.437414\n",
            "75       0.445230  0.554770\n"
          ]
        }
      ]
    }
  ]
}