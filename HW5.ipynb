{
  "nbformat": 4,
  "nbformat_minor": 0,
  "metadata": {
    "colab": {
      "provenance": []
    },
    "kernelspec": {
      "name": "python3",
      "display_name": "Python 3"
    },
    "language_info": {
      "name": "python"
    }
  },
  "cells": [
    {
      "cell_type": "code",
      "source": [
        "from google.colab import drive\n",
        "\n",
        "drive.mount('/content/drive')"
      ],
      "metadata": {
        "colab": {
          "base_uri": "https://localhost:8080/"
        },
        "id": "ZzQ0s1aoorke",
        "outputId": "1631f353-5265-417b-e64e-44d096244061"
      },
      "execution_count": null,
      "outputs": [
        {
          "output_type": "stream",
          "name": "stdout",
          "text": [
            "Mounted at /content/drive\n"
          ]
        }
      ]
    },
    {
      "cell_type": "code",
      "source": [
        "import pandas as pd\n",
        "from sklearn.model_selection import train_test_split\n",
        "\n",
        "file_path = '/content/drive/My Drive/ToyotaCorolla.csv'"
      ],
      "metadata": {
        "id": "hvSssrbfoze9"
      },
      "execution_count": null,
      "outputs": []
    },
    {
      "cell_type": "code",
      "execution_count": null,
      "metadata": {
        "id": "YJJQ0sNiiHcU",
        "colab": {
          "base_uri": "https://localhost:8080/"
        },
        "outputId": "8bd8c83c-2e31-4c48-d464-a52c079f0e0f"
      },
      "outputs": [
        {
          "output_type": "stream",
          "name": "stdout",
          "text": [
            "Training set shape: (861, 38) (861,)\n",
            "Validation set shape: (575, 38) (575,)\n"
          ]
        }
      ],
      "source": [
        "data = pd.read_csv(file_path)\n",
        "\n",
        "X = data.drop(columns=['Price'])\n",
        "y = data['Price']\n",
        "\n",
        "X_train, X_val, y_train, y_val = train_test_split(X, y, test_size=0.4, random_state=42)\n",
        "\n",
        "print(\"Training set shape:\", X_train.shape, y_train.shape)\n",
        "print(\"Validation set shape:\", X_val.shape, y_val.shape)\n"
      ]
    },
    {
      "cell_type": "markdown",
      "source": [
        "A"
      ],
      "metadata": {
        "id": "C-4AgYeYpNqx"
      }
    },
    {
      "cell_type": "code",
      "source": [
        "import pandas as pd\n",
        "from sklearn.model_selection import train_test_split\n",
        "from sklearn.tree import DecisionTreeRegressor\n",
        "from sklearn.compose import ColumnTransformer\n",
        "from sklearn.preprocessing import OneHotEncoder\n",
        "\n",
        "X = data[['Age_08_04', 'KM', 'Fuel_Type', 'HP', 'Automatic', 'Doors', 'Quarterly_Tax',\n",
        "          'Mfr_Guarantee', 'Guarantee_Period', 'Airco', 'Automatic_airco', 'CD_Player',\n",
        "          'Powered_Windows', 'Sport_Model', 'Tow_Bar']]\n",
        "y = data['Price']\n",
        "\n",
        "X = pd.get_dummies(X, columns=['Fuel_Type'], drop_first=True)\n",
        "\n",
        "X_train, X_val, y_train, y_val = train_test_split(X, y, test_size=0.4, random_state=1)\n",
        "\n",
        "tree_reg = DecisionTreeRegressor(random_state=1)\n",
        "\n",
        "tree_reg.fit(X_train, y_train)\n",
        "\n",
        "print(\"Regression Tree Model:\", tree_reg)\n"
      ],
      "metadata": {
        "colab": {
          "base_uri": "https://localhost:8080/"
        },
        "id": "QBz-TRIwpMgA",
        "outputId": "898207e2-ed90-468d-dc14-9a8f3d5ce5ae"
      },
      "execution_count": null,
      "outputs": [
        {
          "output_type": "stream",
          "name": "stdout",
          "text": [
            "Regression Tree Model: DecisionTreeRegressor(random_state=1)\n"
          ]
        }
      ]
    },
    {
      "cell_type": "code",
      "source": [
        "importance = tree_reg.feature_importances_\n",
        "feature_names = X.columns\n",
        "\n",
        "feature_importance_df = pd.DataFrame({'Feature': feature_names, 'Importance': importance})\n",
        "\n",
        "feature_importance_df = feature_importance_df.sort_values(by='Importance', ascending=False)\n",
        "\n",
        "print(\"Top three or four most important car specifications:\")\n",
        "print(feature_importance_df.head(4))\n"
      ],
      "metadata": {
        "colab": {
          "base_uri": "https://localhost:8080/"
        },
        "id": "IISr2yZ8pZew",
        "outputId": "5fa567a2-a08f-4293-ddf3-79ac6287c80d"
      },
      "execution_count": null,
      "outputs": [
        {
          "output_type": "stream",
          "name": "stdout",
          "text": [
            "Top three or four most important car specifications:\n",
            "           Feature  Importance\n",
            "0        Age_08_04    0.844867\n",
            "2               HP    0.053789\n",
            "1               KM    0.049601\n",
            "9  Automatic_airco    0.013358\n"
          ]
        }
      ]
    },
    {
      "cell_type": "code",
      "source": [
        "from sklearn.metrics import mean_squared_error\n",
        "\n",
        "y_train_pred = tree_reg.predict(X_train)\n",
        "\n",
        "y_val_pred = tree_reg.predict(X_val)\n",
        "\n",
        "mse_train = mean_squared_error(y_train, y_train_pred)\n",
        "\n",
        "mse_val = mean_squared_error(y_val, y_val_pred)\n",
        "\n",
        "print(\"Mean Squared Error (Training Set):\", mse_train)\n",
        "print(\"Mean Squared Error (Validation Set):\", mse_val)\n"
      ],
      "metadata": {
        "colab": {
          "base_uri": "https://localhost:8080/"
        },
        "id": "qsUG5YcwpfPP",
        "outputId": "6bd35c8b-9a23-4a99-8729-6352c3825e31"
      },
      "execution_count": null,
      "outputs": [
        {
          "output_type": "stream",
          "name": "stdout",
          "text": [
            "Mean Squared Error (Training Set): 0.0\n",
            "Mean Squared Error (Validation Set): 2227068.1339130434\n"
          ]
        }
      ]
    },
    {
      "cell_type": "code",
      "source": [
        "from sklearn.model_selection import GridSearchCV\n",
        "from sklearn.tree import DecisionTreeRegressor\n",
        "from sklearn.metrics import mean_squared_error\n",
        "\n",
        "param_grid = {\n",
        "    'max_depth': [2, 4, 6, 8, 10],\n",
        "    'min_samples_split': [2, 5, 10],\n",
        "    'min_samples_leaf': [1, 2, 4]\n",
        "}\n",
        "\n",
        "tree_reg = DecisionTreeRegressor(random_state=1)\n",
        "\n",
        "grid_search = GridSearchCV(tree_reg, param_grid, cv=5, scoring='neg_mean_squared_error')\n",
        "grid_search.fit(X_train, y_train)\n",
        "\n",
        "best_tree_reg = grid_search.best_estimator_\n",
        "\n",
        "y_pred_val = best_tree_reg.predict(X_val)\n",
        "\n",
        "mse_val = mean_squared_error(y_val, y_pred_val)\n",
        "\n",
        "print(\"Mean Squared Error on the Validation Set:\", mse_val)\n"
      ],
      "metadata": {
        "colab": {
          "base_uri": "https://localhost:8080/"
        },
        "id": "fLjtU3LBp0Vf",
        "outputId": "0205c3c0-ffe2-4e58-fede-f0b8e155aadb"
      },
      "execution_count": null,
      "outputs": [
        {
          "output_type": "stream",
          "name": "stdout",
          "text": [
            "Mean Squared Error on the Validation Set: 1473298.779229101\n"
          ]
        }
      ]
    },
    {
      "cell_type": "markdown",
      "source": [
        "B"
      ],
      "metadata": {
        "id": "YaDS3vC9iVbG"
      }
    },
    {
      "cell_type": "code",
      "source": [
        "from sklearn.tree import DecisionTreeClassifier\n",
        "from sklearn.model_selection import GridSearchCV\n",
        "from sklearn.model_selection import train_test_split\n",
        "\n",
        "X = data[['Age_08_04', 'KM', 'Fuel_Type', 'HP', 'Automatic', 'Doors', 'Quarterly_Tax',\n",
        "          'Mfr_Guarantee', 'Guarantee_Period', 'Airco', 'Automatic_airco', 'CD_Player',\n",
        "          'Powered_Windows', 'Sport_Model', 'Tow_Bar']]\n",
        "y = data['Bin_Price']"
      ],
      "metadata": {
        "id": "9E15wfldiWvT"
      },
      "execution_count": null,
      "outputs": []
    }
  ]
}