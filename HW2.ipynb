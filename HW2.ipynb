{
  "nbformat": 4,
  "nbformat_minor": 0,
  "metadata": {
    "colab": {
      "provenance": []
    },
    "kernelspec": {
      "name": "python3",
      "display_name": "Python 3"
    },
    "language_info": {
      "name": "python"
    }
  },
  "cells": [
    {
      "cell_type": "markdown",
      "source": [
        "Problem 2.1 a"
      ],
      "metadata": {
        "id": "BJbtWv3a3Nqx"
      }
    },
    {
      "cell_type": "code",
      "execution_count": null,
      "metadata": {
        "colab": {
          "base_uri": "https://localhost:8080/"
        },
        "id": "NK5_ciwN1ZxI",
        "outputId": "15482afe-d3e9-475c-9074-913df3721298"
      },
      "outputs": [
        {
          "output_type": "stream",
          "name": "stdout",
          "text": [
            "Mounted at /content/drive\n"
          ]
        }
      ],
      "source": [
        "from google.colab import drive\n",
        "\n",
        "drive.mount('/content/drive')"
      ]
    },
    {
      "cell_type": "code",
      "source": [
        "import pandas as pd\n",
        "from sklearn.model_selection import train_test_split\n",
        "\n",
        "\n",
        "file_path = '/content/drive/My Drive/UniversalBank.csv'\n",
        "data = pd.read_csv(file_path)"
      ],
      "metadata": {
        "id": "ZLjFEBsv1jCd"
      },
      "execution_count": null,
      "outputs": []
    },
    {
      "cell_type": "code",
      "source": [
        "data = pd.get_dummies(data, columns=['Education'])"
      ],
      "metadata": {
        "id": "oGQlQiV41zLh"
      },
      "execution_count": null,
      "outputs": []
    },
    {
      "cell_type": "code",
      "source": [
        "X = data.drop(columns=['ID', 'ZIP Code', 'Personal Loan'])\n",
        "y = data['Personal Loan']"
      ],
      "metadata": {
        "id": "Lnq_xUr82HaT"
      },
      "execution_count": null,
      "outputs": []
    },
    {
      "cell_type": "code",
      "source": [
        "X_train, X_val, y_train, y_val = train_test_split(X, y, test_size=0.4, random_state=42)"
      ],
      "metadata": {
        "id": "cr2ijxW42KNv"
      },
      "execution_count": null,
      "outputs": []
    },
    {
      "cell_type": "code",
      "source": [
        "from sklearn.neighbors import KNeighborsClassifier\n",
        "knn = KNeighborsClassifier(n_neighbors=1)\n",
        "knn.fit(X_train, y_train)"
      ],
      "metadata": {
        "colab": {
          "base_uri": "https://localhost:8080/",
          "height": 75
        },
        "id": "_GqM1p7y2L-w",
        "outputId": "a572d227-3c26-4077-e46e-23032ab06c46"
      },
      "execution_count": null,
      "outputs": [
        {
          "output_type": "execute_result",
          "data": {
            "text/plain": [
              "KNeighborsClassifier(n_neighbors=1)"
            ],
            "text/html": [
              "<style>#sk-container-id-1 {color: black;background-color: white;}#sk-container-id-1 pre{padding: 0;}#sk-container-id-1 div.sk-toggleable {background-color: white;}#sk-container-id-1 label.sk-toggleable__label {cursor: pointer;display: block;width: 100%;margin-bottom: 0;padding: 0.3em;box-sizing: border-box;text-align: center;}#sk-container-id-1 label.sk-toggleable__label-arrow:before {content: \"▸\";float: left;margin-right: 0.25em;color: #696969;}#sk-container-id-1 label.sk-toggleable__label-arrow:hover:before {color: black;}#sk-container-id-1 div.sk-estimator:hover label.sk-toggleable__label-arrow:before {color: black;}#sk-container-id-1 div.sk-toggleable__content {max-height: 0;max-width: 0;overflow: hidden;text-align: left;background-color: #f0f8ff;}#sk-container-id-1 div.sk-toggleable__content pre {margin: 0.2em;color: black;border-radius: 0.25em;background-color: #f0f8ff;}#sk-container-id-1 input.sk-toggleable__control:checked~div.sk-toggleable__content {max-height: 200px;max-width: 100%;overflow: auto;}#sk-container-id-1 input.sk-toggleable__control:checked~label.sk-toggleable__label-arrow:before {content: \"▾\";}#sk-container-id-1 div.sk-estimator input.sk-toggleable__control:checked~label.sk-toggleable__label {background-color: #d4ebff;}#sk-container-id-1 div.sk-label input.sk-toggleable__control:checked~label.sk-toggleable__label {background-color: #d4ebff;}#sk-container-id-1 input.sk-hidden--visually {border: 0;clip: rect(1px 1px 1px 1px);clip: rect(1px, 1px, 1px, 1px);height: 1px;margin: -1px;overflow: hidden;padding: 0;position: absolute;width: 1px;}#sk-container-id-1 div.sk-estimator {font-family: monospace;background-color: #f0f8ff;border: 1px dotted black;border-radius: 0.25em;box-sizing: border-box;margin-bottom: 0.5em;}#sk-container-id-1 div.sk-estimator:hover {background-color: #d4ebff;}#sk-container-id-1 div.sk-parallel-item::after {content: \"\";width: 100%;border-bottom: 1px solid gray;flex-grow: 1;}#sk-container-id-1 div.sk-label:hover label.sk-toggleable__label {background-color: #d4ebff;}#sk-container-id-1 div.sk-serial::before {content: \"\";position: absolute;border-left: 1px solid gray;box-sizing: border-box;top: 0;bottom: 0;left: 50%;z-index: 0;}#sk-container-id-1 div.sk-serial {display: flex;flex-direction: column;align-items: center;background-color: white;padding-right: 0.2em;padding-left: 0.2em;position: relative;}#sk-container-id-1 div.sk-item {position: relative;z-index: 1;}#sk-container-id-1 div.sk-parallel {display: flex;align-items: stretch;justify-content: center;background-color: white;position: relative;}#sk-container-id-1 div.sk-item::before, #sk-container-id-1 div.sk-parallel-item::before {content: \"\";position: absolute;border-left: 1px solid gray;box-sizing: border-box;top: 0;bottom: 0;left: 50%;z-index: -1;}#sk-container-id-1 div.sk-parallel-item {display: flex;flex-direction: column;z-index: 1;position: relative;background-color: white;}#sk-container-id-1 div.sk-parallel-item:first-child::after {align-self: flex-end;width: 50%;}#sk-container-id-1 div.sk-parallel-item:last-child::after {align-self: flex-start;width: 50%;}#sk-container-id-1 div.sk-parallel-item:only-child::after {width: 0;}#sk-container-id-1 div.sk-dashed-wrapped {border: 1px dashed gray;margin: 0 0.4em 0.5em 0.4em;box-sizing: border-box;padding-bottom: 0.4em;background-color: white;}#sk-container-id-1 div.sk-label label {font-family: monospace;font-weight: bold;display: inline-block;line-height: 1.2em;}#sk-container-id-1 div.sk-label-container {text-align: center;}#sk-container-id-1 div.sk-container {/* jupyter's `normalize.less` sets `[hidden] { display: none; }` but bootstrap.min.css set `[hidden] { display: none !important; }` so we also need the `!important` here to be able to override the default hidden behavior on the sphinx rendered scikit-learn.org. See: https://github.com/scikit-learn/scikit-learn/issues/21755 */display: inline-block !important;position: relative;}#sk-container-id-1 div.sk-text-repr-fallback {display: none;}</style><div id=\"sk-container-id-1\" class=\"sk-top-container\"><div class=\"sk-text-repr-fallback\"><pre>KNeighborsClassifier(n_neighbors=1)</pre><b>In a Jupyter environment, please rerun this cell to show the HTML representation or trust the notebook. <br />On GitHub, the HTML representation is unable to render, please try loading this page with nbviewer.org.</b></div><div class=\"sk-container\" hidden><div class=\"sk-item\"><div class=\"sk-estimator sk-toggleable\"><input class=\"sk-toggleable__control sk-hidden--visually\" id=\"sk-estimator-id-1\" type=\"checkbox\" checked><label for=\"sk-estimator-id-1\" class=\"sk-toggleable__label sk-toggleable__label-arrow\">KNeighborsClassifier</label><div class=\"sk-toggleable__content\"><pre>KNeighborsClassifier(n_neighbors=1)</pre></div></div></div></div></div>"
            ]
          },
          "metadata": {},
          "execution_count": 6
        }
      ]
    },
    {
      "cell_type": "code",
      "source": [
        "new_customer = pd.DataFrame({\n",
        "    'Age': [40],\n",
        "    'Experience': [10],\n",
        "    'Income': [84],\n",
        "    'Family': [2],\n",
        "    'CCAvg': [2],\n",
        "    'Mortgage': [0],\n",
        "    'Securities Account': [0],\n",
        "    'CD Account': [0],\n",
        "    'Online': [1],\n",
        "    'CreditCard': [1],\n",
        "    'Education_1': [0],  # Dummy variable for Education\n",
        "    'Education_2': [1],  # Dummy variable for Education\n",
        "    'Education_3': [0]   # Dummy variable for Education\n",
        "})"
      ],
      "metadata": {
        "id": "sE0QsYNt2PTh"
      },
      "execution_count": null,
      "outputs": []
    },
    {
      "cell_type": "code",
      "source": [
        "prediction = knn.predict(new_customer)"
      ],
      "metadata": {
        "id": "KyM_7zpa2SBw"
      },
      "execution_count": null,
      "outputs": []
    },
    {
      "cell_type": "code",
      "source": [
        "if prediction[0] == 1:\n",
        "    print(\"The customer is predicted to accept the loan offer.\")\n",
        "else:\n",
        "    print(\"The customer is predicted to decline the loan offer.\")"
      ],
      "metadata": {
        "colab": {
          "base_uri": "https://localhost:8080/"
        },
        "id": "L82kpDMM2UZ0",
        "outputId": "1ee8e829-5a49-46aa-8437-39c0700afb6a"
      },
      "execution_count": null,
      "outputs": [
        {
          "output_type": "stream",
          "name": "stdout",
          "text": [
            "The customer is predicted to decline the loan offer.\n"
          ]
        }
      ]
    },
    {
      "cell_type": "markdown",
      "source": [
        "B"
      ],
      "metadata": {
        "id": "qaIREMcS34fc"
      }
    },
    {
      "cell_type": "code",
      "source": [
        "from sklearn.model_selection import cross_val_score\n",
        "\n",
        "k_values = list(range(1, 21))\n",
        "\n",
        "cv_scores = []\n",
        "for k in k_values:\n",
        "    knn = KNeighborsClassifier(n_neighbors=k)\n",
        "    scores = cross_val_score(knn, X_train, y_train, cv=5, scoring='accuracy')\n",
        "    cv_scores.append(scores.mean())\n",
        "\n",
        "best_k = k_values[cv_scores.index(max(cv_scores))]\n",
        "print(\"Best choice of k:\", best_k)\n"
      ],
      "metadata": {
        "colab": {
          "base_uri": "https://localhost:8080/"
        },
        "id": "gepYnuaojFSh",
        "outputId": "f963a154-e0d7-4e73-c101-453fa56bff3b"
      },
      "execution_count": null,
      "outputs": [
        {
          "output_type": "stream",
          "name": "stdout",
          "text": [
            "Best choice of k: 5\n"
          ]
        }
      ]
    },
    {
      "cell_type": "markdown",
      "source": [
        "C"
      ],
      "metadata": {
        "id": "hSRuUXBXtZ2K"
      }
    },
    {
      "cell_type": "code",
      "source": [
        "\n",
        "new_customer = pd.DataFrame({\n",
        "    'Age': [40],\n",
        "    'Experience': [10],\n",
        "    'Income': [84],\n",
        "    'Family': [2],\n",
        "    'CCAvg': [2],\n",
        "    'Mortgage': [0],\n",
        "    'Securities Account': [0],\n",
        "    'CD Account': [0],\n",
        "    'Online': [1],\n",
        "    'CreditCard': [1],\n",
        "    'Education_1': [0],  # Dummy variable for Education\n",
        "    'Education_2': [1],  # Dummy variable for Education\n",
        "    'Education_3': [0]   # Dummy variable for Education\n",
        "})\n",
        "\n",
        "new_customer = new_customer[X.columns]\n",
        "\n",
        "\n",
        "new_customer_scaled = scaler.transform(new_customer)\n",
        "\n",
        "prediction_best = knn_best.predict(new_customer_scaled)\n",
        "print(\"Prediction for the new customer (best k):\", prediction_best[0])\n",
        "\n",
        "\n",
        "\n",
        "\n"
      ],
      "metadata": {
        "colab": {
          "base_uri": "https://localhost:8080/"
        },
        "id": "UIltKX2ekfO_",
        "outputId": "12fe3f13-469d-45ba-e6ef-813f9a959679"
      },
      "execution_count": null,
      "outputs": [
        {
          "output_type": "stream",
          "name": "stdout",
          "text": [
            "Prediction for the new customer (best k): 0\n"
          ]
        }
      ]
    },
    {
      "cell_type": "markdown",
      "source": [
        "2.2 A"
      ],
      "metadata": {
        "id": "ZMXwyaYltGMm"
      }
    },
    {
      "cell_type": "code",
      "source": [
        "import pandas as pd\n",
        "from sklearn.model_selection import train_test_split\n",
        "\n",
        "X = data.drop(['ID', 'ZIP Code', 'Personal Loan'], axis=1)\n",
        "y = data['Personal Loan']\n",
        "\n",
        "X_train, X_val, y_train, y_val = train_test_split(X, y, test_size=0.4, random_state=42)\n"
      ],
      "metadata": {
        "id": "H8Q4rxSXspv1"
      },
      "execution_count": null,
      "outputs": []
    },
    {
      "cell_type": "code",
      "source": [
        "\n",
        "train_data = pd.concat([X_train, y_train], axis=1)\n",
        "\n",
        "acceptors = train_data[train_data['Personal Loan'] == 1]\n",
        "non_acceptors = train_data[train_data['Personal Loan'] == 0]\n",
        "\n",
        "# summary statistics for continuous predictors\n",
        "continuous_predictors = ['Age', 'Experience', 'Income', 'Family', 'CCAvg', 'Mortgage']\n",
        "acceptors_continuous_stats = acceptors[continuous_predictors].describe().loc[['mean', 'std']]\n",
        "non_acceptors_continuous_stats = non_acceptors[continuous_predictors].describe().loc[['mean', 'std']]\n",
        "\n",
        "# percentages for categorical predictors\n",
        "categorical_predictors = ['Securities Account', 'CD Account', 'Online', 'CreditCard', 'Education_1', 'Education_2', 'Education_3']\n",
        "acceptors_categorical_stats = acceptors[categorical_predictors].mean() * 100\n",
        "non_acceptors_categorical_stats = non_acceptors[categorical_predictors].mean() * 100\n",
        "\n",
        "# Summary statistics\n",
        "print(\"Summary statistics for continuous predictors (loan acceptors):\\n\", acceptors_continuous_stats)\n",
        "print(\"\\nSummary statistics for continuous predictors (non-acceptors):\\n\", non_acceptors_continuous_stats)\n",
        "print(\"\\nPercentages for categorical predictors (loan acceptors):\\n\", acceptors_categorical_stats)\n",
        "print(\"\\nPercentages for categorical predictors (non-acceptors):\\n\", non_acceptors_categorical_stats)\n"
      ],
      "metadata": {
        "colab": {
          "base_uri": "https://localhost:8080/"
        },
        "id": "38JrxwNzs0_k",
        "outputId": "d5718b6a-ea54-4c8a-be5a-a3223c74cd34"
      },
      "execution_count": null,
      "outputs": [
        {
          "output_type": "stream",
          "name": "stdout",
          "text": [
            "Summary statistics for continuous predictors (loan acceptors):\n",
            "             Age  Experience      Income    Family     CCAvg    Mortgage\n",
            "mean  45.261649   20.086022  144.025090  2.641577  3.962258  113.838710\n",
            "std   11.732618   11.795612   31.999484  1.128693  2.108355  170.909835\n",
            "\n",
            "Summary statistics for continuous predictors (non-acceptors):\n",
            "             Age  Experience     Income    Family     CCAvg   Mortgage\n",
            "mean  44.927600   19.685042  66.380742  2.353546  1.722080  52.259463\n",
            "std   11.359641   11.350095  40.208764  1.149151  1.556032  93.428824\n",
            "\n",
            "Percentages for categorical predictors (loan acceptors):\n",
            " Securities Account    12.544803\n",
            "CD Account            28.673835\n",
            "Online                62.724014\n",
            "CreditCard            28.673835\n",
            "Education_1           20.788530\n",
            "Education_2           36.917563\n",
            "Education_3           42.293907\n",
            "dtype: float64\n",
            "\n",
            "Percentages for categorical predictors (non-acceptors):\n",
            " Securities Account    10.363837\n",
            "CD Account             3.785373\n",
            "Online                59.610437\n",
            "CreditCard            29.400956\n",
            "Education_1           43.660419\n",
            "Education_2           27.710401\n",
            "Education_3           28.629180\n",
            "dtype: float64\n"
          ]
        }
      ]
    },
    {
      "cell_type": "markdown",
      "source": [
        "2.2 B"
      ],
      "metadata": {
        "id": "lECbiJRPkD9h"
      }
    },
    {
      "cell_type": "code",
      "source": [
        "import pandas as pd\n",
        "from sklearn.model_selection import train_test_split\n",
        "from sklearn.discriminant_analysis import LinearDiscriminantAnalysis\n",
        "from sklearn.preprocessing import StandardScaler\n",
        "from sklearn.metrics import accuracy_score, confusion_matrix, classification_report\n",
        "\n",
        "data = pd.read_csv('UniversalBank.csv')\n",
        "\n",
        "X = data.drop(['ID', 'ZIP Code', 'Personal Loan'], axis=1)\n",
        "y = data['Personal Loan']\n",
        "\n",
        "X_train, X_val, y_train, y_val = train_test_split(X, y, test_size=0.4, random_state=42)\n",
        "\n",
        "categor_cols = ['Family', 'Education', 'Securities Account', 'CD Account', 'Online', 'CreditCard']\n",
        "data = pd.get_dummies(data, columns=categor_cols, drop_first=True)\n",
        "\n",
        "scaler = StandardScaler()\n",
        "X_train_scaled = scaler.fit_transform(X_train)\n",
        "X_val_scaled = scaler.transform(X_val)\n",
        "\n",
        "lda_model = LinearDiscriminantAnalysis()\n",
        "lda_model.fit(X_train_scaled, y_train)\n",
        "\n",
        "X_val_scaled = scaler.transform(X_val)\n",
        "y_pred_val = lda_model.predict(X_val_scaled)\n",
        "\n",
        "accuracy = accuracy_score(y_val, y_pred_val)\n",
        "print(f'Accuracy on the validation set: {accuracy:.2%}')\n",
        "\n",
        "# Confusion matrix\n",
        "confus_matrix = confusion_matrix(y_val, y_pred_val)\n",
        "print('\\nConfusion Matrix:')\n",
        "print(confus_matrix)\n",
        "\n",
        "# Classification report\n",
        "classif_report = classification_report(y_val, y_pred_val)\n",
        "print('\\nClassification Report:')\n",
        "print(classif_report)"
      ],
      "metadata": {
        "colab": {
          "base_uri": "https://localhost:8080/"
        },
        "id": "xpkkECAAj_Fj",
        "outputId": "4bfbc1a8-9873-43f7-cfe4-9d5c555e34b8"
      },
      "execution_count": null,
      "outputs": [
        {
          "output_type": "stream",
          "name": "stdout",
          "text": [
            "Accuracy on the validation set: 94.25%\n",
            "\n",
            "Confusion Matrix:\n",
            "[[1763   36]\n",
            " [  79  122]]\n",
            "\n",
            "Classification Report:\n",
            "              precision    recall  f1-score   support\n",
            "\n",
            "           0       0.96      0.98      0.97      1799\n",
            "           1       0.77      0.61      0.68       201\n",
            "\n",
            "    accuracy                           0.94      2000\n",
            "   macro avg       0.86      0.79      0.82      2000\n",
            "weighted avg       0.94      0.94      0.94      2000\n",
            "\n"
          ]
        }
      ]
    },
    {
      "cell_type": "markdown",
      "source": [
        "Accuracy rate = 94.25%\n",
        "\n",
        "False Positive (Type I Error): Times that the model predicted a personal loan, but the customer did not actually accept it. Here, there are 36 false positives.\n",
        "\n",
        "False Negative (Type II Error): Times where the model predicted no personal loan, but the customer did accept it. Here, there are 79 false negatives.\n",
        "\n",
        "The number of false negatives (79) is higher than that of false positives (36). Thus, the model will be more likely to make false negatives (Type II errors) than false positives (Type I errors) and one type of misclassification is more likely than the others.\n",
        "\n"
      ],
      "metadata": {
        "id": "Udkwi3_Ss-mm"
      }
    }
  ]
}