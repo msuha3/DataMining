{
  "nbformat": 4,
  "nbformat_minor": 0,
  "metadata": {
    "colab": {
      "provenance": []
    },
    "kernelspec": {
      "name": "python3",
      "display_name": "Python 3"
    },
    "language_info": {
      "name": "python"
    }
  },
  "cells": [
    {
      "cell_type": "code",
      "execution_count": null,
      "metadata": {
        "id": "skySiew5Cga7"
      },
      "outputs": [],
      "source": [
        "from sklearn import datasets\n",
        "california = datasets.fetch_california_housing()\n",
        "X_train = california.data\n",
        "Y_train = california.target"
      ]
    },
    {
      "cell_type": "markdown",
      "source": [
        "A\n"
      ],
      "metadata": {
        "id": "IFNFOx5R0KSd"
      }
    },
    {
      "cell_type": "code",
      "source": [
        "import numpy as np\n",
        "from sklearn.model_selection import cross_val_score, KFold, GridSearchCV, train_test_split\n",
        "from sklearn.tree import DecisionTreeRegressor\n",
        "from sklearn.ensemble import AdaBoostRegressor, RandomForestRegressor\n",
        "from sklearn.metrics import mean_absolute_error, r2_score\n",
        "\n",
        "cart_regressor = DecisionTreeRegressor(min_samples_leaf=10, random_state=42)\n",
        "adaboost_regressor = AdaBoostRegressor(base_estimator=cart_regressor, n_estimators=50, random_state=42)\n",
        "\n",
        "kf = KFold(n_splits=5, shuffle=True, random_state=42)\n",
        "\n",
        "cart_cv_scores = cross_val_score(cart_regressor, X, y, cv=kf, scoring='r2')\n",
        "adaboost_cv_scores = cross_val_score(adaboost_regressor, X, y, cv=kf, scoring='r2')\n",
        "\n",
        "cart_mae_mean = -cross_val_score(cart_regressor, X, y, cv=kf, scoring='neg_mean_absolute_error').mean()\n",
        "adaboost_mae_mean = -cross_val_score(adaboost_regressor, X, y, cv=kf, scoring='neg_mean_absolute_error').mean()\n",
        "\n",
        "print(\"Mean Absolute Error (MAE) for CART:\", cart_mae_mean)\n",
        "print(\"Mean Absolute Error (MAE) for AdaBoost:\", adaboost_mae_mean)\n",
        "\n",
        "print(\"R^2 for CART:\", np.mean(cart_cv_scores))\n",
        "print(\"R^2 for AdaBoost:\", np.mean(adaboost_cv_scores))"
      ],
      "metadata": {
        "colab": {
          "base_uri": "https://localhost:8080/"
        },
        "id": "kHUWa5_o1dpS",
        "outputId": "49e863f4-f238-4bac-f7f5-2d21d56eee89"
      },
      "execution_count": null,
      "outputs": [
        {
          "output_type": "stream",
          "name": "stderr",
          "text": [
            "/usr/local/lib/python3.10/dist-packages/sklearn/ensemble/_base.py:166: FutureWarning: `base_estimator` was renamed to `estimator` in version 1.2 and will be removed in 1.4.\n",
            "  warnings.warn(\n",
            "/usr/local/lib/python3.10/dist-packages/sklearn/ensemble/_base.py:166: FutureWarning: `base_estimator` was renamed to `estimator` in version 1.2 and will be removed in 1.4.\n",
            "  warnings.warn(\n",
            "/usr/local/lib/python3.10/dist-packages/sklearn/ensemble/_base.py:166: FutureWarning: `base_estimator` was renamed to `estimator` in version 1.2 and will be removed in 1.4.\n",
            "  warnings.warn(\n",
            "/usr/local/lib/python3.10/dist-packages/sklearn/ensemble/_base.py:166: FutureWarning: `base_estimator` was renamed to `estimator` in version 1.2 and will be removed in 1.4.\n",
            "  warnings.warn(\n",
            "/usr/local/lib/python3.10/dist-packages/sklearn/ensemble/_base.py:166: FutureWarning: `base_estimator` was renamed to `estimator` in version 1.2 and will be removed in 1.4.\n",
            "  warnings.warn(\n",
            "/usr/local/lib/python3.10/dist-packages/sklearn/ensemble/_base.py:166: FutureWarning: `base_estimator` was renamed to `estimator` in version 1.2 and will be removed in 1.4.\n",
            "  warnings.warn(\n",
            "/usr/local/lib/python3.10/dist-packages/sklearn/ensemble/_base.py:166: FutureWarning: `base_estimator` was renamed to `estimator` in version 1.2 and will be removed in 1.4.\n",
            "  warnings.warn(\n",
            "/usr/local/lib/python3.10/dist-packages/sklearn/ensemble/_base.py:166: FutureWarning: `base_estimator` was renamed to `estimator` in version 1.2 and will be removed in 1.4.\n",
            "  warnings.warn(\n",
            "/usr/local/lib/python3.10/dist-packages/sklearn/ensemble/_base.py:166: FutureWarning: `base_estimator` was renamed to `estimator` in version 1.2 and will be removed in 1.4.\n",
            "  warnings.warn(\n",
            "/usr/local/lib/python3.10/dist-packages/sklearn/ensemble/_base.py:166: FutureWarning: `base_estimator` was renamed to `estimator` in version 1.2 and will be removed in 1.4.\n",
            "  warnings.warn(\n"
          ]
        },
        {
          "output_type": "stream",
          "name": "stdout",
          "text": [
            "Mean Absolute Error (MAE) for CART: 0.4051236145928673\n",
            "Mean Absolute Error (MAE) for AdaBoost: 0.3188597803296035\n",
            "R^2 for CART: 0.7212586032129119\n",
            "R^2 for AdaBoost: 0.8279258204387515\n"
          ]
        }
      ]
    },
    {
      "cell_type": "markdown",
      "source": [
        "B"
      ],
      "metadata": {
        "id": "4rH4QJ2E0MbM"
      }
    },
    {
      "cell_type": "code",
      "source": [
        "X_train, X_test, y_train, y_test = train_test_split(X, y, test_size=0.2, random_state=42)\n",
        "\n",
        "param_grid = {\n",
        "    'max_features': [1/3],\n",
        "    'min_samples_leaf': [2, 10],\n",
        "    'n_estimators': [10, 50, 100]\n",
        "}\n",
        "\n",
        "rf = RandomForestRegressor(random_state=42)\n",
        "grid_search = GridSearchCV(estimator=rf, param_grid=param_grid, cv=10, scoring='r2', n_jobs=-1)\n",
        "grid_search.fit(X_train, y_train)\n",
        "\n",
        "best_rf = grid_search.best_estimator_\n",
        "best_rf_cv_score = grid_search.best_score_\n",
        "\n",
        "y_pred_test = best_rf.predict(X_test)\n",
        "test_r2_score = r2_score(y_test, y_pred_test)\n",
        "\n",
        "print(\"Best parameters found:\", grid_search.best_params_)\n",
        "print(\"Best CV R^2 score:\", best_rf_cv_score)\n",
        "print(\"Test R^2 score for best model:\", test_r2_score)"
      ],
      "metadata": {
        "colab": {
          "base_uri": "https://localhost:8080/"
        },
        "id": "-1YvU8Iu2HiQ",
        "outputId": "cfebb81a-e35c-4c32-c750-e382b35c16d1"
      },
      "execution_count": null,
      "outputs": [
        {
          "output_type": "stream",
          "name": "stdout",
          "text": [
            "Best parameters found: {'max_features': 0.3333333333333333, 'min_samples_leaf': 2, 'n_estimators': 100}\n",
            "Best CV R^2 score: 0.8127383085726121\n",
            "Test R^2 score for best model: 0.8058488889183437\n"
          ]
        }
      ]
    }
  ]
}