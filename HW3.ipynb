{
  "nbformat": 4,
  "nbformat_minor": 0,
  "metadata": {
    "colab": {
      "provenance": []
    },
    "kernelspec": {
      "name": "python3",
      "display_name": "Python 3"
    },
    "language_info": {
      "name": "python"
    }
  },
  "cells": [
    {
      "cell_type": "markdown",
      "source": [
        "Problem 3.1 a\n"
      ],
      "metadata": {
        "id": "hxzManOKp5rV"
      }
    },
    {
      "cell_type": "code",
      "execution_count": null,
      "metadata": {
        "colab": {
          "base_uri": "https://localhost:8080/"
        },
        "id": "BJ0RZqwmkrlF",
        "outputId": "c049e24b-4195-4407-bd78-767058cbefac"
      },
      "outputs": [
        {
          "output_type": "stream",
          "name": "stdout",
          "text": [
            "Drive already mounted at /content/drive; to attempt to forcibly remount, call drive.mount(\"/content/drive\", force_remount=True).\n"
          ]
        }
      ],
      "source": [
        "from google.colab import drive\n",
        "\n",
        "drive.mount('/content/drive')"
      ]
    },
    {
      "cell_type": "code",
      "source": [
        "import pandas as pd\n",
        "from sklearn.model_selection import train_test_split\n",
        "\n",
        "\n",
        "file_path = '/content/drive/My Drive/eBayAuctions.csv'\n",
        "data = pd.read_csv(file_path)"
      ],
      "metadata": {
        "id": "2lmU19jmkx__"
      },
      "execution_count": null,
      "outputs": []
    },
    {
      "cell_type": "code",
      "source": [
        "data = pd.get_dummies(data, columns=['Category', 'currency', 'endDay', 'Duration'])"
      ],
      "metadata": {
        "id": "MomYJwSTlbi3"
      },
      "execution_count": null,
      "outputs": []
    },
    {
      "cell_type": "code",
      "source": [
        "print(data.columns)"
      ],
      "metadata": {
        "colab": {
          "base_uri": "https://localhost:8080/"
        },
        "id": "yvH8LhyepkB-",
        "outputId": "2014eada-be68-4692-ba20-42712e530470"
      },
      "execution_count": null,
      "outputs": [
        {
          "output_type": "stream",
          "name": "stdout",
          "text": [
            "Index(['sellerRating', 'ClosePrice', 'OpenPrice', 'Competitive?',\n",
            "       'Category_Antique/Art/Craft', 'Category_Automotive', 'Category_Books',\n",
            "       'Category_Business/Industrial', 'Category_Clothing/Accessories',\n",
            "       'Category_Coins/Stamps', 'Category_Collectibles', 'Category_Computer',\n",
            "       'Category_Electronics', 'Category_EverythingElse',\n",
            "       'Category_Health/Beauty', 'Category_Home/Garden', 'Category_Jewelry',\n",
            "       'Category_Music/Movie/Game', 'Category_Photography',\n",
            "       'Category_Pottery/Glass', 'Category_SportingGoods',\n",
            "       'Category_Toys/Hobbies', 'currency_EUR', 'currency_GBP', 'currency_US',\n",
            "       'endDay_Fri', 'endDay_Mon', 'endDay_Sat', 'endDay_Sun', 'endDay_Thu',\n",
            "       'endDay_Tue', 'endDay_Wed', 'Duration_1', 'Duration_3', 'Duration_5',\n",
            "       'Duration_7', 'Duration_10'],\n",
            "      dtype='object')\n"
          ]
        }
      ]
    },
    {
      "cell_type": "code",
      "source": [
        "pivot_category = data.pivot_table(index='Category_Antique/Art/Craft', values='Competitive?', aggfunc='mean')\n",
        "pivot_currency = data.pivot_table(index='currency_US', values='Competitive?', aggfunc='mean')\n",
        "pivot_endDay = data.pivot_table(index=['endDay_Mon', 'endDay_Tue', 'endDay_Wed', 'endDay_Thu', 'endDay_Fri', 'endDay_Sat', 'endDay_Sun'], values='Competitive?', aggfunc='mean')\n",
        "pivot_duration = data.pivot_table(index=['Duration_1', 'Duration_3', 'Duration_5', 'Duration_7', 'Duration_10'], values='Competitive?', aggfunc='mean')\n"
      ],
      "metadata": {
        "id": "1vViZ7fcldmI"
      },
      "execution_count": null,
      "outputs": []
    },
    {
      "cell_type": "code",
      "source": [
        "\n",
        "print(\"Pivot table for Category:\")\n",
        "print(pivot_category)\n",
        "print(\"\\nPivot table for Currency:\")\n",
        "print(pivot_currency)\n",
        "print(\"\\nPivot table for EndDay:\")\n",
        "print(pivot_endDay)\n",
        "print(\"\\nPivot table for Duration:\")\n",
        "print(pivot_duration)\n"
      ],
      "metadata": {
        "colab": {
          "base_uri": "https://localhost:8080/"
        },
        "id": "2eKxw1dUlgXe",
        "outputId": "cd83a395-faeb-4f62-96aa-50a695a91ff9"
      },
      "execution_count": null,
      "outputs": [
        {
          "output_type": "stream",
          "name": "stdout",
          "text": [
            "Pivot table for Category:\n",
            "                            Competitive?\n",
            "Category_Antique/Art/Craft              \n",
            "0                               0.538162\n",
            "1                               0.564972\n",
            "\n",
            "Pivot table for Currency:\n",
            "             Competitive?\n",
            "currency_US              \n",
            "0                0.580882\n",
            "1                0.519350\n",
            "\n",
            "Pivot table for EndDay:\n",
            "                                                                              Competitive?\n",
            "endDay_Mon endDay_Tue endDay_Wed endDay_Thu endDay_Fri endDay_Sat endDay_Sun              \n",
            "0          0          0          0          0          0          1               0.485207\n",
            "                                                       1          0               0.427350\n",
            "                                            1          0          0               0.466899\n",
            "                                 1          0          0          0               0.603960\n",
            "                      1          0          0          0          0               0.480000\n",
            "           1          0          0          0          0          0               0.532164\n",
            "1          0          0          0          0          0          0               0.673358\n",
            "\n",
            "Pivot table for Duration:\n",
            "                                                         Competitive?\n",
            "Duration_1 Duration_3 Duration_5 Duration_7 Duration_10              \n",
            "0          0          0          0          1                0.544554\n",
            "                                 1          0                0.489142\n",
            "                      1          0          0                0.686695\n",
            "           1          0          0          0                0.450704\n",
            "1          0          0          0          0                0.521739\n"
          ]
        }
      ]
    },
    {
      "cell_type": "markdown",
      "source": [
        "b"
      ],
      "metadata": {
        "id": "7YfyZEf_p9x0"
      }
    },
    {
      "cell_type": "code",
      "source": [
        "from sklearn.model_selection import train_test_split\n",
        "from sklearn.linear_model import LogisticRegression\n",
        "from sklearn.metrics import accuracy_score, classification_report\n",
        "\n",
        "X = data.drop(columns=['Competitive?'])\n",
        "y = data['Competitive?']\n",
        "\n",
        "X_train, X_val, y_train, y_val = train_test_split(X, y, test_size=0.4, random_state=42)\n"
      ],
      "metadata": {
        "id": "NTm2gdQxp-8D"
      },
      "execution_count": null,
      "outputs": []
    },
    {
      "cell_type": "code",
      "source": [
        "logistic_model = LogisticRegression(max_iter=1000)\n",
        "\n",
        "logistic_model.fit(X_train, y_train)\n",
        "\n",
        "y_pred = logistic_model.predict(X_val)\n",
        "\n",
        "accuracy = accuracy_score(y_val, y_pred)\n",
        "print(\"Accuracy:\", accuracy)\n",
        "\n",
        "print(\"\\nClassification Report:\")\n",
        "print(classification_report(y_val, y_pred))"
      ],
      "metadata": {
        "colab": {
          "base_uri": "https://localhost:8080/"
        },
        "id": "8wSQtLvKqSuL",
        "outputId": "d87a2eb8-126e-427c-bdbe-d19e0f625ccc"
      },
      "execution_count": null,
      "outputs": [
        {
          "output_type": "stream",
          "name": "stdout",
          "text": [
            "Accuracy: 0.7490494296577946\n",
            "\n",
            "Classification Report:\n",
            "              precision    recall  f1-score   support\n",
            "\n",
            "           0       0.69      0.82      0.75       359\n",
            "           1       0.82      0.69      0.75       430\n",
            "\n",
            "    accuracy                           0.75       789\n",
            "   macro avg       0.75      0.75      0.75       789\n",
            "weighted avg       0.76      0.75      0.75       789\n",
            "\n"
          ]
        }
      ]
    },
    {
      "cell_type": "markdown",
      "source": [
        "c"
      ],
      "metadata": {
        "id": "PXdjJsR2pXNT"
      }
    },
    {
      "cell_type": "code",
      "source": [
        "X_no_price = X.drop(columns=['ClosePrice'])\n",
        "\n",
        "X_train_no_price, X_val_no_price, y_train_no_price, y_val_no_price = train_test_split(X_no_price, y, test_size=0.4, random_state=42)\n",
        "\n",
        "logistic_model_no_price = LogisticRegression(max_iter=1000)\n",
        "logistic_model_no_price.fit(X_train_no_price, y_train_no_price)\n",
        "\n",
        "y_pred_no_price = logistic_model_no_price.predict(X_val_no_price)\n",
        "\n",
        "# accuracy\n",
        "accuracy_no_price = accuracy_score(y_val_no_price, y_pred_no_price)\n",
        "print(\"Accuracy without closing price:\", accuracy_no_price)\n",
        "\n",
        "# Classification report\n",
        "print(\"\\nClassification Report without closing price:\")\n",
        "print(classification_report(y_val_no_price, y_pred_no_price))\n"
      ],
      "metadata": {
        "colab": {
          "base_uri": "https://localhost:8080/"
        },
        "id": "lXty9zh4pYy-",
        "outputId": "738387ea-10e5-40bc-d4c4-34e22592943a"
      },
      "execution_count": null,
      "outputs": [
        {
          "output_type": "stream",
          "name": "stdout",
          "text": [
            "Accuracy without closing price: 0.6311787072243346\n",
            "\n",
            "Classification Report without closing price:\n",
            "              precision    recall  f1-score   support\n",
            "\n",
            "           0       0.60      0.58      0.59       359\n",
            "           1       0.66      0.68      0.67       430\n",
            "\n",
            "    accuracy                           0.63       789\n",
            "   macro avg       0.63      0.63      0.63       789\n",
            "weighted avg       0.63      0.63      0.63       789\n",
            "\n"
          ]
        }
      ]
    },
    {
      "cell_type": "markdown",
      "source": [
        "d"
      ],
      "metadata": {
        "id": "VWiX_82jqNsZ"
      }
    },
    {
      "cell_type": "code",
      "source": [
        "from sklearn.linear_model import LogisticRegression\n",
        "from sklearn.metrics import accuracy_score\n",
        "import numpy as np\n",
        "\n",
        "logistic_model = LogisticRegression(max_iter=1000)\n",
        "logistic_model.fit(X_train, y_train)\n",
        "\n",
        "closing_price_coef = logistic_model.coef_[0][np.where(X_train.columns == 'ClosePrice')]\n",
        "\n",
        "if np.abs(closing_price_coef) > 0.1:\n",
        "    print(\"The coefficient for closing price is significant practically.\")\n",
        "else:\n",
        "    print(\"The coefficient for closing price is not significant practically.\")\n",
        "\n",
        "if np.abs(closing_price_coef) >= 1.645:\n",
        "    print(\"The coefficient for closing price is statistically significant at the 10% significance level.\")\n",
        "else:\n",
        "    print(\"The coefficient for closing price is not statistically significant at the 10% significance level.\")\n",
        "\n",
        "\n"
      ],
      "metadata": {
        "id": "gK-TiratqPRr",
        "colab": {
          "base_uri": "https://localhost:8080/"
        },
        "outputId": "09e6e9ab-0ab4-49b0-d85d-6f8aa1f6dd89"
      },
      "execution_count": null,
      "outputs": [
        {
          "output_type": "stream",
          "name": "stdout",
          "text": [
            "The coefficient for closing price is not significant practically.\n",
            "The coefficient for closing price is not statistically significant at the 10% significance level.\n"
          ]
        }
      ]
    },
    {
      "cell_type": "markdown",
      "source": [
        "e"
      ],
      "metadata": {
        "id": "llMuvh02tr_o"
      }
    },
    {
      "cell_type": "code",
      "source": [
        "from sklearn.linear_model import LogisticRegressionCV\n",
        "\n",
        "logistic_model_regularized = LogisticRegressionCV(Cs=10, cv=5, penalty='l1', solver='liblinear', max_iter=1000)\n",
        "logistic_model_regularized.fit(X_train, y_train)\n",
        "\n",
        "y_pred_regularized = logistic_model_regularized.predict(X_val)\n",
        "\n",
        "accuracy_regularized = accuracy_score(y_val, y_pred_regularized)\n",
        "print(\"Accuracy of regularized logistic regression:\", accuracy_regularized)\n",
        "\n",
        "print(\"\\nClassification Report of regularized logistic regression:\")\n",
        "print(classification_report(y_val, y_pred_regularized))\n",
        "\n",
        "selected_predictors = X_train.columns[logistic_model_regularized.coef_[0] != 0]\n",
        "print(\"\\nSelected predictors by regularized logistic regression:\", selected_predictors)\n"
      ],
      "metadata": {
        "colab": {
          "base_uri": "https://localhost:8080/"
        },
        "id": "Hy9WfNpCts8f",
        "outputId": "d4924b7a-45bb-434a-d76a-fc563391c1c0"
      },
      "execution_count": null,
      "outputs": [
        {
          "output_type": "stream",
          "name": "stdout",
          "text": [
            "Accuracy of regularized logistic regression: 0.7946768060836502\n",
            "\n",
            "Classification Report of regularized logistic regression:\n",
            "              precision    recall  f1-score   support\n",
            "\n",
            "           0       0.71      0.92      0.80       359\n",
            "           1       0.92      0.69      0.78       430\n",
            "\n",
            "    accuracy                           0.79       789\n",
            "   macro avg       0.81      0.81      0.79       789\n",
            "weighted avg       0.82      0.79      0.79       789\n",
            "\n",
            "\n",
            "Selected predictors by regularized logistic regression: Index(['sellerRating', 'ClosePrice', 'OpenPrice', 'currency_EUR', 'endDay_Mon',\n",
            "       'Duration_5'],\n",
            "      dtype='object')\n"
          ]
        }
      ]
    },
    {
      "cell_type": "markdown",
      "source": [
        "f"
      ],
      "metadata": {
        "id": "ASZBPRWUuMYv"
      }
    },
    {
      "cell_type": "code",
      "source": [
        "auction_settings_coefficients = pd.DataFrame({'Feature': X_train.columns, 'Coefficient': logistic_model_regularized.coef_[0]})\n",
        "auction_settings_coefficients = auction_settings_coefficients[auction_settings_coefficients['Feature'].str.startswith(('Duration', 'OpenPrice', 'endDay', 'currency'))]\n",
        "\n",
        "auction_settings_coefficients['AbsoluteCoefficient'] = np.abs(auction_settings_coefficients['Coefficient'])\n",
        "auction_settings_coefficients = auction_settings_coefficients.sort_values(by='AbsoluteCoefficient', ascending=False)\n",
        "\n",
        "print(\"Most influential auction settings based on coefficient magnitude:\")\n",
        "print(auction_settings_coefficients)"
      ],
      "metadata": {
        "colab": {
          "base_uri": "https://localhost:8080/"
        },
        "id": "dtqndBeGuNYL",
        "outputId": "19511a6b-00f5-401e-9b29-678d6104df67"
      },
      "execution_count": null,
      "outputs": [
        {
          "output_type": "stream",
          "name": "stdout",
          "text": [
            "Most influential auction settings based on coefficient magnitude:\n",
            "         Feature  Coefficient  AbsoluteCoefficient\n",
            "21  currency_EUR    -0.260693             0.260693\n",
            "2      OpenPrice    -0.118414             0.118414\n",
            "25    endDay_Mon     0.053697             0.053697\n",
            "33    Duration_5     0.022175             0.022175\n",
            "22  currency_GBP     0.000000             0.000000\n",
            "23   currency_US     0.000000             0.000000\n",
            "24    endDay_Fri     0.000000             0.000000\n",
            "26    endDay_Sat     0.000000             0.000000\n",
            "27    endDay_Sun     0.000000             0.000000\n",
            "28    endDay_Thu     0.000000             0.000000\n",
            "29    endDay_Tue     0.000000             0.000000\n",
            "30    endDay_Wed     0.000000             0.000000\n",
            "31    Duration_1     0.000000             0.000000\n",
            "32    Duration_3     0.000000             0.000000\n",
            "34    Duration_7     0.000000             0.000000\n",
            "35   Duration_10     0.000000             0.000000\n"
          ]
        }
      ]
    }
  ]
}